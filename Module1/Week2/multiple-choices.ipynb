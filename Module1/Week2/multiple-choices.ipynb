{
  "nbformat": 4,
  "nbformat_minor": 0,
  "metadata": {
    "colab": {
      "provenance": []
    },
    "kernelspec": {
      "name": "python3",
      "display_name": "Python 3"
    },
    "language_info": {
      "name": "python"
    }
  },
  "cells": [
    {
      "cell_type": "code",
      "source": [
        "# Question 1\n",
        "def max_kernel(num_list, k):\n",
        "    result = []\n",
        "    n = len(num_list)\n",
        "    for i in range (n - k + 1):\n",
        "        max_num = max(num_list[i:i+k])\n",
        "        result.append(max_num)\n",
        "    return result\n",
        "\n",
        "\n",
        "assert max_kernel([3, 4, 5, 1, -44], 3) == [5, 5, 5]\n",
        "\n",
        "num_list = [3, 4, 5, 1, -44, 5, 10, 12, 33, 1]\n",
        "k = 3\n",
        "print('1A)', max_kernel(num_list, k))"
      ],
      "metadata": {
        "colab": {
          "base_uri": "https://localhost:8080/"
        },
        "id": "y_dySqbNJYtJ",
        "outputId": "8952c209-e66f-4528-d504-2399b80fcaba"
      },
      "execution_count": null,
      "outputs": [
        {
          "output_type": "stream",
          "name": "stdout",
          "text": [
            "1A) [5, 5, 5, 5, 10, 12, 33, 33]\n"
          ]
        }
      ]
    },
    {
      "cell_type": "code",
      "source": [
        "# Question 2\n",
        "def character_count(word):\n",
        "    character_statistic = {}\n",
        "    for char in word:\n",
        "        if char in character_statistic:\n",
        "            character_statistic[char] += 1\n",
        "        else:\n",
        "            character_statistic[char] = 1\n",
        "    return character_statistic\n",
        "\n",
        "\n",
        "assert character_count(\"Baby\") == {'B': 1, 'a': 1, 'b': 1, 'y': 1}\n",
        "\n",
        "print('2A)',character_count('smiles'))"
      ],
      "metadata": {
        "colab": {
          "base_uri": "https://localhost:8080/"
        },
        "id": "bkIgpXYTrA3D",
        "outputId": "6d49acb8-5af4-46d0-e79a-f6ac0fa27bbf"
      },
      "execution_count": null,
      "outputs": [
        {
          "output_type": "stream",
          "name": "stdout",
          "text": [
            "2A) {'s': 2, 'm': 1, 'i': 1, 'l': 1, 'e': 1}\n"
          ]
        }
      ]
    },
    {
      "cell_type": "code",
      "source": [
        "# Question 3\n",
        "!gdown https://drive.google.com/uc?id=1IBScGdW2xlNsc9v5zSAya548kNgiOrko\n",
        "\n",
        "def count_word(file_path):\n",
        "    counter = {}\n",
        "    with open (file_path, 'r') as f:\n",
        "        text = f.read().replace('\\n', ' ')\n",
        "    word_lst = text.split(' ')\n",
        "    for word in word_lst:\n",
        "        if word in counter:\n",
        "            counter[word] += 1\n",
        "        else:\n",
        "            counter[word] = 1\n",
        "    return counter\n",
        "\n",
        "\n",
        "file_path = '/content/P1_data.txt'\n",
        "result = count_word(file_path)\n",
        "assert result['who'] == 3\n",
        "\n",
        "print('3C)', result['man'])"
      ],
      "metadata": {
        "colab": {
          "base_uri": "https://localhost:8080/"
        },
        "id": "8AsiTtiDJeQR",
        "outputId": "1793cccb-d6de-4cb3-c5bd-e3099a9291df"
      },
      "execution_count": null,
      "outputs": [
        {
          "output_type": "stream",
          "name": "stdout",
          "text": [
            "Downloading...\n",
            "From: https://drive.google.com/uc?id=1IBScGdW2xlNsc9v5zSAya548kNgiOrko\n",
            "To: /content/P1_data.txt\n",
            "\r  0% 0.00/747 [00:00<?, ?B/s]\r100% 747/747 [00:00<00:00, 2.88MB/s]\n",
            "3C) 6\n"
          ]
        }
      ]
    },
    {
      "cell_type": "code",
      "source": [
        "# Question 4\n",
        "def levenshtein_distance(token1, token2):\n",
        "    distance = 0\n",
        "    \"\"\"\n",
        "    1. Create matrix(row x col)\n",
        "    2. Fill first row and column\n",
        "    3. Fill matrix based on previous edits\n",
        "    4. Return final element (Levenshtein distance)\n",
        "    \"\"\"\n",
        "    col_num = len(token2) + 1\n",
        "    row_num = len(token1) + 1\n",
        "    matrx = [[0] * col_num for _ in range(row_num)]\n",
        "\n",
        "    for i in range(row_num):\n",
        "        for j in range(col_num):\n",
        "            if i == 0 and j == 0:\n",
        "                matrx[i][j] = 0\n",
        "            elif i == 0:\n",
        "                matrx[i][j] += matrx[i][j - 1] + 1\n",
        "            elif j == 0:\n",
        "                matrx[i][j] = matrx[i - 1][j] + 1\n",
        "\n",
        "            elif token1[i - 1] == token2[j - 1]:\n",
        "                matrx[i][j] = matrx[i - 1][j - 1]\n",
        "            else:\n",
        "                matrx[i][j] = 1 + min(\n",
        "                    matrx[i - 1][j], matrx[i][j - 1], matrx[i - 1][j - 1]\n",
        "                )\n",
        "    distance = matrx[row_num - 1][col_num - 1]\n",
        "\n",
        "    return distance\n",
        "\n",
        "\n",
        "assert levenshtein_distance('hi', 'hello') == 4.0\n",
        "\n",
        "print('4C)', levenshtein_distance('hola', 'hello'))"
      ],
      "metadata": {
        "id": "DwI73mfJPfQ3",
        "colab": {
          "base_uri": "https://localhost:8080/"
        },
        "outputId": "ad7ee7bc-51f8-417d-c9c8-eeafece37151"
      },
      "execution_count": 3,
      "outputs": [
        {
          "output_type": "stream",
          "name": "stdout",
          "text": [
            "4C) 3\n"
          ]
        }
      ]
    },
    {
      "cell_type": "code",
      "source": [
        "# Question 5\n",
        "def check_the_number(N):\n",
        "    list_of_numbers = []\n",
        "    result = \"\"\n",
        "    for i in range(1, 5):\n",
        "        list_of_numbers.append(i)\n",
        "    if N in list_of_numbers:\n",
        "        results = \"True\"\n",
        "    if N not in list_of_numbers:\n",
        "        results = \"False\"\n",
        "    return results\n",
        "\n",
        "\n",
        "N = 7\n",
        "assert check_the_number(N) == \"False\"\n",
        "\n",
        "N = 2\n",
        "results = check_the_number(N)\n",
        "print('5A)',results)"
      ],
      "metadata": {
        "colab": {
          "base_uri": "https://localhost:8080/"
        },
        "id": "BezF27QMP23C",
        "outputId": "2209d9e1-5fec-44b4-8d6c-f863b0134356"
      },
      "execution_count": null,
      "outputs": [
        {
          "output_type": "stream",
          "name": "stdout",
          "text": [
            "5A) True\n"
          ]
        }
      ]
    },
    {
      "cell_type": "code",
      "source": [
        "def my_function(data, max, min):\n",
        "    result = []\n",
        "    for i in data:\n",
        "        if i < min:\n",
        "            result.append(min)\n",
        "        elif i > max:\n",
        "            result.append(max)\n",
        "        else:\n",
        "            result.append(i)\n",
        "    return result\n",
        "\n",
        "\n",
        "my_list = [5, 2, 5, 0, 1]\n",
        "max = 1\n",
        "min = 0\n",
        "assert my_function(max = max, min = min, data = my_list) == [1, 1, 1, 0, 1]\n",
        "\n",
        "my_list = [10 , 2, 5, 0, 1]\n",
        "max = 2\n",
        "min = 1\n",
        "print('6C)', my_function(max = max, min = min, data = my_list))"
      ],
      "metadata": {
        "colab": {
          "base_uri": "https://localhost:8080/"
        },
        "id": "cvd-lE6GRG66",
        "outputId": "693f10b2-16e0-4fbb-86dc-524ceb7d9e4f"
      },
      "execution_count": null,
      "outputs": [
        {
          "output_type": "stream",
          "name": "stdout",
          "text": [
            "6C) [2, 2, 2, 1, 1]\n"
          ]
        }
      ]
    },
    {
      "cell_type": "code",
      "source": [
        "# Question 7\n",
        "def my_function(x, y):\n",
        "    x.extend(y)\n",
        "    return x\n",
        "\n",
        "\n",
        "list_num1 = ['a', 2, 5]\n",
        "list_num2 = [1, 1]\n",
        "list_num3 = [0, 0]\n",
        "assert my_function(list_num1, my_function(list_num2, list_num3)) == ['a', 2, 5, 1, 1, 0, 0]\n",
        "\n",
        "list_num1 = [1, 2]\n",
        "list_num2 = [3, 4]\n",
        "list_num3 = [0, 0]\n",
        "print('7A)', my_function(list_num1, my_function(list_num2, list_num3)))"
      ],
      "metadata": {
        "colab": {
          "base_uri": "https://localhost:8080/"
        },
        "id": "7FzxEO8OR8ns",
        "outputId": "64539dbc-5699-4376-906b-33b57d30d207"
      },
      "execution_count": null,
      "outputs": [
        {
          "output_type": "stream",
          "name": "stdout",
          "text": [
            "7A) [1, 2, 3, 4, 0, 0]\n"
          ]
        }
      ]
    },
    {
      "cell_type": "code",
      "source": [
        "# Question 8\n",
        "def my_function(n):\n",
        "    result = min(n)\n",
        "    return result\n",
        "\n",
        "\n",
        "my_list = [1, 22, 93, -100]\n",
        "assert my_function(my_list) == -100\n",
        "\n",
        "my_list = [1, 2, 3, -1]\n",
        "print('8C)', my_function(my_list))"
      ],
      "metadata": {
        "colab": {
          "base_uri": "https://localhost:8080/"
        },
        "id": "fcAIDyDcTEYe",
        "outputId": "643d5c3c-b98b-43cd-bd45-b8017eb0a490"
      },
      "execution_count": null,
      "outputs": [
        {
          "output_type": "stream",
          "name": "stdout",
          "text": [
            "8C) -1\n"
          ]
        }
      ]
    },
    {
      "cell_type": "code",
      "source": [
        "# Question 9\n",
        "def my_function(n):\n",
        "    result = max(n)\n",
        "    return result\n",
        "\n",
        "\n",
        "my_list = [1001 , 9, 100 , 0]\n",
        "assert my_function(my_list) == 1001\n",
        "\n",
        "my_list = [1, 9, 9, 0]\n",
        "print('9D)', my_function(my_list))"
      ],
      "metadata": {
        "colab": {
          "base_uri": "https://localhost:8080/"
        },
        "id": "Xhb8yzyQVANF",
        "outputId": "b96cfa73-4cd6-42c7-a09d-4b7157d692da"
      },
      "execution_count": null,
      "outputs": [
        {
          "output_type": "stream",
          "name": "stdout",
          "text": [
            "9D) 9\n"
          ]
        }
      ]
    },
    {
      "cell_type": "code",
      "source": [
        "# Question 10\n",
        "def My_function(integers, number=1):\n",
        "    result = any(True if i == number else False for i in integers)\n",
        "    return result\n",
        "\n",
        "\n",
        "my_list = [1, 3, 9, 4]\n",
        "assert My_function(my_list, -1) == False\n",
        "\n",
        "my_list = [1, 2, 3, 4]\n",
        "print('10C)', My_function(my_list, 2))"
      ],
      "metadata": {
        "colab": {
          "base_uri": "https://localhost:8080/"
        },
        "id": "WZmwobI2VW-C",
        "outputId": "dd9c1441-e174-48b8-fab8-42ad28feca25"
      },
      "execution_count": null,
      "outputs": [
        {
          "output_type": "stream",
          "name": "stdout",
          "text": [
            "10C) True\n"
          ]
        }
      ]
    },
    {
      "cell_type": "code",
      "source": [
        "# Question 11\n",
        "def my_function(list_nums = [0, 1, 2]):\n",
        "    var = 0\n",
        "    for i in list_nums:\n",
        "        var += i\n",
        "    return var/len(list_nums)\n",
        "\n",
        "\n",
        "assert my_function([4, 6, 8]) == 6\n",
        "print('11A)', my_function())"
      ],
      "metadata": {
        "colab": {
          "base_uri": "https://localhost:8080/"
        },
        "id": "LRHmp8YVXHTf",
        "outputId": "d733dc55-7a9a-4bac-e11b-d33dc8a7686c"
      },
      "execution_count": null,
      "outputs": [
        {
          "output_type": "stream",
          "name": "stdout",
          "text": [
            "11A) 1.0\n"
          ]
        }
      ]
    },
    {
      "cell_type": "code",
      "source": [
        "# Question 12\n",
        "def my_function(data):\n",
        "    var = []\n",
        "    for i in data:\n",
        "        if i % 3 == 0:\n",
        "            var.append(i)\n",
        "    return var\n",
        "\n",
        "\n",
        "assert my_function([3 , 9, 4, 5]) == [3, 9]\n",
        "print('12A)', my_function([1, 2, 3, 5, 6]))"
      ],
      "metadata": {
        "colab": {
          "base_uri": "https://localhost:8080/"
        },
        "id": "cgCp8rbXX2Zl",
        "outputId": "0bee4683-ec10-4160-e67e-ad3b90cdc5bd"
      },
      "execution_count": null,
      "outputs": [
        {
          "output_type": "stream",
          "name": "stdout",
          "text": [
            "12A) [3, 6]\n"
          ]
        }
      ]
    },
    {
      "cell_type": "code",
      "source": [
        "# Question 13\n",
        "def my_function(y):\n",
        "    var = 1\n",
        "    while(y > 1):\n",
        "        var *= y\n",
        "        y -= 1\n",
        "    return var\n",
        "\n",
        "\n",
        "assert my_function(8) == 40320\n",
        "print('13C)', my_function(4))"
      ],
      "metadata": {
        "colab": {
          "base_uri": "https://localhost:8080/"
        },
        "id": "Cxfjx6QWYMHg",
        "outputId": "fe02ef04-74ea-4b30-bee9-54a4d2a57665"
      },
      "execution_count": null,
      "outputs": [
        {
          "output_type": "stream",
          "name": "stdout",
          "text": [
            "13C) 24\n"
          ]
        }
      ]
    },
    {
      "cell_type": "code",
      "source": [
        "# Question 14\n",
        "def my_function(x):\n",
        "    result = ''\n",
        "    for char in x:\n",
        "        result = char + result\n",
        "    return result\n",
        "\n",
        "\n",
        "x = 'I can do it'\n",
        "assert my_function(x) == \"ti od nac I\"\n",
        "\n",
        "x = 'apricot'\n",
        "print('14B)', my_function(x))"
      ],
      "metadata": {
        "colab": {
          "base_uri": "https://localhost:8080/"
        },
        "id": "oiGKtTulYiTz",
        "outputId": "1ad6b2f3-d672-4c25-dcbe-ccd14cdb23bd"
      },
      "execution_count": null,
      "outputs": [
        {
          "output_type": "stream",
          "name": "stdout",
          "text": [
            "14B) tocirpa\n"
          ]
        }
      ]
    },
    {
      "cell_type": "code",
      "source": [
        "# Question 15\n",
        "def function_helper(x):\n",
        "    if x > 0:\n",
        "        return 'T'\n",
        "    return 'N'\n",
        "\n",
        "\n",
        "def my_function(data):\n",
        "    res = [function_helper(x) for x in data]\n",
        "    return res\n",
        "\n",
        "\n",
        "data = [10 , 0, -10, -1]\n",
        "assert my_function(data) == ['T', 'N', 'N', 'N']\n",
        "\n",
        "data = [2, 3, 5, -1]\n",
        "print('15C)', my_function(data))"
      ],
      "metadata": {
        "colab": {
          "base_uri": "https://localhost:8080/"
        },
        "id": "Ri4h8tZaZjPi",
        "outputId": "7a0a369a-d9a4-42a1-9228-bb69a561c756"
      },
      "execution_count": null,
      "outputs": [
        {
          "output_type": "stream",
          "name": "stdout",
          "text": [
            "15C) ['T', 'T', 'T', 'N']\n"
          ]
        }
      ]
    },
    {
      "cell_type": "code",
      "source": [
        "# Question 16\n",
        "def function_helper(x, data):\n",
        "    for i in data:\n",
        "        if x == i:\n",
        "            return 0\n",
        "    return 1\n",
        "\n",
        "\n",
        "def my_function(data):\n",
        "    res = []\n",
        "    for i in data:\n",
        "        if function_helper(i, res):\n",
        "            res.append(i)\n",
        "    return res\n",
        "\n",
        "\n",
        "lst = [10, 10, 9, 7, 7]\n",
        "assert my_function(lst) == [10, 9, 7]\n",
        "\n",
        "lst = [9, 9, 8, 1, 1]\n",
        "print('16A)', my_function(lst))"
      ],
      "metadata": {
        "colab": {
          "base_uri": "https://localhost:8080/"
        },
        "id": "g_LB5vZbalgN",
        "outputId": "fa7c34e5-7bd9-4df2-84df-603b38cf3240"
      },
      "execution_count": null,
      "outputs": [
        {
          "output_type": "stream",
          "name": "stdout",
          "text": [
            "16A) [9, 8, 1]\n"
          ]
        }
      ]
    }
  ]
}
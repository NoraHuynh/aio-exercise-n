{
  "cells": [
    {
      "cell_type": "code",
      "execution_count": null,
      "metadata": {
        "colab": {
          "base_uri": "https://localhost:8080/"
        },
        "id": "bkIgpXYTrA3D",
        "outputId": "1b506e07-3689-4a19-8916-df605a37d43e"
      },
      "outputs": [
        {
          "name": "stdout",
          "output_type": "stream",
          "text": [
            "Downloading...\n",
            "From: https://drive.google.com/uc?id=1IBScGdW2xlNsc9v5zSAya548kNgiOrko\n",
            "To: /content/P1_data.txt\n",
            "\r  0% 0.00/747 [00:00<?, ?B/s]\r100% 747/747 [00:00<00:00, 2.34MB/s]\n"
          ]
        },
        {
          "data": {
            "text/plain": [
              "{'He': 1,\n",
              " 'who': 3,\n",
              " 'conquers': 1,\n",
              " 'himself': 1,\n",
              " 'is': 3,\n",
              " 'the': 4,\n",
              " 'mightiest': 1,\n",
              " 'warrior': 1,\n",
              " 'Try': 1,\n",
              " 'not': 1,\n",
              " 'to': 3,\n",
              " 'become': 2,\n",
              " 'a': 6,\n",
              " 'man': 6,\n",
              " 'of': 4,\n",
              " 'success': 2,\n",
              " 'but': 1,\n",
              " 'rather': 1,\n",
              " 'value': 1,\n",
              " 'One': 2,\n",
              " 'with': 4,\n",
              " 'courage': 1,\n",
              " 'makes': 1,\n",
              " 'majority': 1,\n",
              " 'secret': 1,\n",
              " 'in': 4,\n",
              " 'life': 2,\n",
              " 'for': 3,\n",
              " 'be': 1,\n",
              " 'ready': 1,\n",
              " 'his': 2,\n",
              " 'opportunity': 1,\n",
              " 'when': 2,\n",
              " 'it': 2,\n",
              " 'comes': 2,\n",
              " 'The': 1,\n",
              " 'successful': 2,\n",
              " 'will': 2,\n",
              " 'profit': 1,\n",
              " 'from': 1,\n",
              " 'mistakes': 1,\n",
              " 'and': 1,\n",
              " 'try': 1,\n",
              " 'again': 1,\n",
              " 'different': 1,\n",
              " 'way': 1,\n",
              " 'A': 1,\n",
              " 'one': 2,\n",
              " 'can': 3,\n",
              " 'lay': 1,\n",
              " 'firm': 1,\n",
              " 'foundation': 1,\n",
              " 'bricks': 1,\n",
              " 'others': 1,\n",
              " 'have': 1,\n",
              " 'thrown': 1,\n",
              " 'at': 1,\n",
              " 'him': 1,\n",
              " 'Success': 1,\n",
              " 'usually': 1,\n",
              " 'those': 1,\n",
              " 'are': 1,\n",
              " 'too': 1,\n",
              " 'busy': 1,\n",
              " 'looking': 1,\n",
              " 'We': 1,\n",
              " 'cannot': 1,\n",
              " 'solve': 1,\n",
              " 'problems': 1,\n",
              " 'kind': 1,\n",
              " 'thinking': 1,\n",
              " 'we': 2,\n",
              " 'employed': 1,\n",
              " 'came': 1,\n",
              " 'up': 1,\n",
              " 'them': 1,\n",
              " 'Just': 1,\n",
              " 'small': 1,\n",
              " 'positive': 1,\n",
              " 'thought': 1,\n",
              " 'morning': 1,\n",
              " 'change': 1,\n",
              " 'your': 1,\n",
              " 'whole': 1,\n",
              " 'day': 1,\n",
              " 'You': 1,\n",
              " 'get': 2,\n",
              " 'everything': 1,\n",
              " 'you': 2,\n",
              " 'want': 2,\n",
              " 'if': 1,\n",
              " 'just': 1,\n",
              " 'help': 1,\n",
              " 'enough': 1,\n",
              " 'other': 1,\n",
              " 'people': 1,\n",
              " 'what': 1,\n",
              " 'they': 1}"
            ]
          },
          "execution_count": 1,
          "metadata": {},
          "output_type": "execute_result"
        }
      ],
      "source": [
        "!gdown https://drive.google.com/uc?id=1IBScGdW2xlNsc9v5zSAya548kNgiOrko\n",
        "file_path = '/content/P1_data.txt'\n",
        "\n",
        "\n",
        "def word_count(file_path):\n",
        "    with open (file_path, 'r') as f:\n",
        "        text = f.read().replace('\\n', ' ')\n",
        "    word_lst = text.split(' ')\n",
        "    word_count = {}\n",
        "    for word in word_lst:\n",
        "        if word in word_count:\n",
        "            word_count[word] += 1\n",
        "        else:\n",
        "            word_count[word] = 1\n",
        "    return word_count\n",
        "word_count(file_path)"
      ]
    }
  ],
  "metadata": {
    "colab": {
      "authorship_tag": "ABX9TyNoiXi2a8XHfX0F2TPEcS93",
      "include_colab_link": true,
      "provenance": []
    },
    "kernelspec": {
      "display_name": "Python 3",
      "name": "python3"
    },
    "language_info": {
      "name": "python"
    }
  },
  "nbformat": 4,
  "nbformat_minor": 0
}
